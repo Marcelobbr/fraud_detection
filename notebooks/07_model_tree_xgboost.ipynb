{
 "cells": [
  {
   "cell_type": "code",
   "execution_count": 4,
   "metadata": {},
   "outputs": [],
   "source": [
    "import json\n",
    "import os\n",
    "import sys\n",
    "import warnings\n",
    "\n",
    "import matplotlib.pyplot as plt\n",
    "import numpy as np\n",
    "import pandas as pd\n",
    "from datetime import datetime\n",
    "from imblearn.over_sampling import SMOTE\n",
    "from IPython.display import clear_output\n",
    "from pprint import pprint\n",
    "from sklearn.preprocessing import StandardScaler\n",
    "from sklearn.impute import SimpleImputer as Imputer\n",
    "from sklearn.pipeline import Pipeline\n",
    "from sklearn.model_selection import GridSearchCV\n",
    "from sklearn.metrics import accuracy_score, log_loss, f1_score, recall_score, precision_score\n",
    "from sklearn.metrics import mean_absolute_error, mean_squared_error, r2_score\n",
    "\n",
    "warnings.filterwarnings('ignore')"
   ]
  },
  {
   "cell_type": "code",
   "execution_count": 5,
   "metadata": {},
   "outputs": [],
   "source": [
    "sys.path.append(os.path.join('..', 'src'))"
   ]
  },
  {
   "cell_type": "code",
   "execution_count": 6,
   "metadata": {},
   "outputs": [],
   "source": [
    "import importlib\n",
    "import utils, model, params, s05_2_feature_engineering\n",
    "\n",
    "importlib.reload(model)\n",
    "from model import get_model_params, timer, measure_prediction_time, apply_ml_model, save_model_parameters, save_model_metrics\n",
    "\n",
    "importlib.reload(s05_2_feature_engineering)\n",
    "from s05_2_feature_engineering import build_polynomials, transform_label, treat_skewness"
   ]
  },
  {
   "cell_type": "markdown",
   "metadata": {},
   "source": [
    "# define functions\n",
    "notice that I had to build 2 functions for xgboost. The second one applies hyperparameter tuning. \n",
    "\n",
    "There are some other refs for a different approach:\n",
    "* https://www.kaggle.com/kabure/extensive-eda-and-modeling-xgb-hyperopt"
   ]
  },
  {
   "cell_type": "code",
   "execution_count": 7,
   "metadata": {},
   "outputs": [],
   "source": [
    "def apply_ml_model(alg, X_train_set, y_train_set, cols, \n",
    "                   encoding='ordinal', treat_collinearity = False, build_polynomals_method=None, do_transform_label=False, \n",
    "                   do_treat_skewness=False, smote=False,\n",
    "                   useTrainCV=True, cv_folds=5, early_stopping_rounds=50, verbosity=False):\n",
    "    '''\n",
    "     \\n\n",
    "     \n",
    "    '''\n",
    "    start_time = datetime.now()\n",
    "\n",
    "    X_train_set = X_train_set[cols]\n",
    "    \n",
    "    if smote: \n",
    "        oversampling = SMOTE(sampling_strategy = 0.5, k_neighbors=5, random_state=42)\n",
    "        X_train_set, y_train_set = oversampling.fit_resample(X_train_set, y_train_set)\n",
    "        X_train_set = pd.DataFrame(X_train_set, columns = cols)\n",
    "        \n",
    "    if build_polynomals_method: \n",
    "        X_train_set = build_polynomials(X_train_set, ProjectParameters().numerical_cols, method = build_polynomals_method)\n",
    "    if do_transform_label:\n",
    "        y_train_set = transform_label(y_train_set, do_transform_label)\n",
    "    if do_treat_skewness:\n",
    "        X_train_set = treat_skewness(X_train_set, set_name)\n",
    "    \n",
    "    predictors = X_train_set.columns.to_list()\n",
    "\n",
    "    if useTrainCV:\n",
    "        xgb_param = alg.get_xgb_params()\n",
    "        xgtrain = xgb.DMatrix(X_train_set[predictors].values, label=y_train_set)\n",
    "#         metrics = ['rmse']\n",
    "        metrics = ['logloss']\n",
    "        cvresult = xgb.cv(xgb_param, xgtrain, num_boost_round=alg.get_params()['n_estimators'], nfold=cv_folds,\n",
    "            metrics=metrics, early_stopping_rounds=early_stopping_rounds, verbose_eval=verbosity)\n",
    "        alg.set_params(n_estimators=cvresult.shape[0])\n",
    "    \n",
    "    #Fit the algorithm on the data\n",
    "    alg.fit(X_train_set[predictors], y_train_set,eval_metric='auc')\n",
    "        \n",
    "    #Predict training set:\n",
    "    X_train_set_predictions = alg.predict(X_train_set[predictors])\n",
    "\n",
    "#     best_score = mean_squared_error(y_train_set, X_train_set_predictions)\n",
    "#     best_score = accuracy_score(y_train_set, X_train_set_predictions)\n",
    "    best_score = f1_score(y_train_set, X_train_set_predictions)\n",
    "    \n",
    "    #Print model report:\n",
    "    print (\"\\nModel Report\")\n",
    "    print (\"Score : %.4g\" % best_score)\n",
    "#     print (\"R2 : %.4g\" % r2_score(y_train_set, X_train_set_predictions))\n",
    "    print (\"f1 : %.4g\" % f1_score(y_train_set, X_train_set_predictions))\n",
    "\n",
    "    \n",
    "    train_time = round(timer(start_time),9)\n",
    "    prediction_time = measure_prediction_time(alg, X_train_set)\n",
    "    \n",
    "    return alg, best_score, train_time, prediction_time, X_train_set"
   ]
  },
  {
   "cell_type": "code",
   "execution_count": 8,
   "metadata": {},
   "outputs": [],
   "source": [
    "def gridsearch_and_save(model_type, models, cols, build_polynomals_method=False, \n",
    "                                            do_treat_skewness=False, smote=False): \n",
    "    ml_dict = {model_type: {}}\n",
    "    grid_results = {}\n",
    "    count = 0\n",
    "    \n",
    "    for k,model in models.items():\n",
    "#         print(model)\n",
    "        \n",
    "        # report step\n",
    "        count += 1\n",
    "        clear_output(wait=True)\n",
    "        print('grid {} of {}'.format(count, len(models)))\n",
    "\n",
    "        # apply model with parameter from grid step\n",
    "        grid_results[k] = {'best_score': {}, 'train_time': {}, 'prediction_time': {}, 'best_params': {}}\n",
    "        (clf,\n",
    "         grid_results[k]['best_score'],\n",
    "         grid_results[k]['train_time'],\n",
    "         grid_results[k]['prediction_time'], \n",
    "         data_transformed) = apply_ml_model(model, X_train, y_train, columns, encoding='ordinal', \n",
    "                                            build_polynomals_method=build_polynomals_method, \n",
    "                                            do_treat_skewness=do_treat_skewness, smote=smote\n",
    "                                           )\n",
    "\n",
    "        grid_results[k]['best_params'] = clf.get_params()\n",
    "        ml_dict[model_type]['columns'] = columns\n",
    "\n",
    "    # search for best score on grid and save data and parameters\n",
    "    best_score = 0\n",
    "    for k,v in grid_results.items():\n",
    "        score = v['best_score']\n",
    "        if score >= best_score:\n",
    "            best_score = score\n",
    "            ml_dict[model_type]['best_score'] = v['best_score']\n",
    "            ml_dict[model_type]['train_time'] = v['train_time']\n",
    "            ml_dict[model_type]['prediction_time'] = v['prediction_time']\n",
    "            ml_dict[model_type]['best_params'] = v['best_params']\n",
    "\n",
    "    save_model_parameters(models_reports, model_type, ml_dict[model_type]['best_params'])\n",
    "    save_model_metrics(model_outputs, model_type, ml_dict)\n",
    "\n",
    "#     print('Model Report')\n",
    "#     print('score:', ml_dict[model_type]['best_score'])\n",
    "    \n",
    "    return clf"
   ]
  },
  {
   "cell_type": "markdown",
   "metadata": {},
   "source": [
    "# Define paths"
   ]
  },
  {
   "cell_type": "code",
   "execution_count": 9,
   "metadata": {},
   "outputs": [],
   "source": [
    "inputs = os.path.join('..', 'data', '03_processed')\n",
    "outputs = os.path.join('..', 'data', '03_processed')\n",
    "models_reports = os.path.join('..', 'data', '04_models')\n",
    "model_outputs = os.path.join('..', 'data', '05_model_output')\n",
    "reports = os.path.join('..', 'data', '06_reporting')"
   ]
  },
  {
   "cell_type": "markdown",
   "metadata": {},
   "source": [
    "# Data capture\n",
    "As dataset is small, we might export data to a pandas dataframe."
   ]
  },
  {
   "cell_type": "code",
   "execution_count": 10,
   "metadata": {},
   "outputs": [
    {
     "name": "stdout",
     "output_type": "stream",
     "text": [
      "(7000, 50)\n",
      "(7000, 162)\n",
      "(7000, 1)\n"
     ]
    }
   ],
   "source": [
    "inputs = os.path.join('..', 'data', '03_processed')\n",
    "models_reports = os.path.join('..', 'data', '04_models')\n",
    "model_outputs = os.path.join('..', 'data', '05_model_output')\n",
    "reports = os.path.join('..', 'data', '06_reporting')\n",
    "\n",
    "# data_list = ['X_train', 'X_train_oh', 'y_train']\n",
    "# dfs_dict = build_data_dict(inputs, data_list)\n",
    "\n",
    "X_train            = pd.read_csv(os.path.join(inputs, 'X_train.csv'), index_col='id')\n",
    "X_train_onehot         = pd.read_csv(os.path.join(inputs, 'X_train_onehot.csv'), index_col='id')\n",
    "y_train            = pd.read_csv(os.path.join(inputs, 'y_train.csv'), index_col='id')\n",
    "\n",
    "data_list = [X_train, X_train_onehot, y_train]\n",
    "\n",
    "for df in data_list:\n",
    "    print(df.shape)"
   ]
  },
  {
   "cell_type": "markdown",
   "metadata": {},
   "source": [
    "# Machine Learning"
   ]
  },
  {
   "cell_type": "code",
   "execution_count": 11,
   "metadata": {},
   "outputs": [],
   "source": [
    "import xgboost as xgb\n",
    "from xgboost.sklearn import XGBClassifier"
   ]
  },
  {
   "cell_type": "code",
   "execution_count": 12,
   "metadata": {},
   "outputs": [],
   "source": [
    "import itertools\n",
    "    \n",
    "params = {\n",
    "        'learning_rate': 0.1,\n",
    "        'min_child_weight': 1,\n",
    "        'scale_pos_weight': 1,\n",
    "        'random_state': 42,\n",
    "        'nthread': 8\n",
    "         }\n",
    "grid_params = {\n",
    "        'learning_rate': [0.1, 0.01], # [0.01, 0.1]\n",
    "        'n_estimators': [50, 10], # [10, 50, 100, 300], standard is 10\n",
    "        'max_depth': [5, 3], # [3, 5, 10], standard is 5\n",
    "        'gamma': [0], # 0, 0.01\n",
    "        'subsample': [0.8, 0.6], # [0.5, 0.8]\n",
    "        'colsample_bytree': [0.8, 0.6] # [0.5, 0.8]\n",
    "        }\n",
    "\n",
    "# key = 'standard'\n",
    "\n",
    "parameter_groups = {}\n",
    "keys, values = zip(*grid_params.items())\n",
    "permutations_dicts = [dict(zip(keys, v)) for v in itertools.product(*values)]\n",
    "for i, param_group in enumerate(permutations_dicts):\n",
    "    \n",
    "    objective = 'binary:logistic'\n",
    "    model = XGBClassifier()\n",
    "        \n",
    "    for k,v in params.items(): \n",
    "        setattr(model, k, v)\n",
    "    for k,v in param_group.items():\n",
    "        setattr(model, k, v)\n",
    "    setattr(model, 'objective', objective)\n",
    "    parameter_groups[i] = model"
   ]
  },
  {
   "cell_type": "markdown",
   "metadata": {},
   "source": [
    "Notice that we have a binary target. If target type was 'regression', we would have to run the following code for the param group loop:\n",
    "```python\n",
    "from xgboost.sklearn import XGBRegressor\n",
    "objective = 'reg:squarederror'\n",
    "model = XGBRegressor()\n",
    "# do_transform_label=None\n",
    "```"
   ]
  },
  {
   "cell_type": "markdown",
   "metadata": {},
   "source": [
    "# model with all features"
   ]
  },
  {
   "cell_type": "code",
   "execution_count": 13,
   "metadata": {},
   "outputs": [
    {
     "name": "stdout",
     "output_type": "stream",
     "text": [
      "grid 32 of 32\n",
      "\n",
      "Model Report\n",
      "Score : 0.2541\n",
      "f1 : 0.2541\n"
     ]
    }
   ],
   "source": [
    "model_name = 'tree_xgb'\n",
    "columns = X_train.columns.to_list()\n",
    "\n",
    "clf = gridsearch_and_save(model_name, parameter_groups, columns)"
   ]
  },
  {
   "cell_type": "markdown",
   "metadata": {},
   "source": [
    "### feature importances"
   ]
  },
  {
   "cell_type": "code",
   "execution_count": 14,
   "metadata": {},
   "outputs": [
    {
     "data": {
      "image/png": "[encoded data removed]",
      "text/plain": [
       "<Figure size 432x288 with 1 Axes>"
      ]
     },
     "metadata": {
      "needs_background": "light"
     },
     "output_type": "display_data"
    }
   ],
   "source": [
    "feature_importances = pd.Series(clf.get_booster().get_score(importance_type='total_gain')).sort_values(ascending=False)\n",
    "feature_importances.head(20).plot(kind='bar', title='Feature Importances (total_gain)')\n",
    "plt.ylabel('Feature Importance Score');\n",
    "plt.savefig(os.path.join(reports, 'xgboost_importances_gain.jpg'), bbox_inches='tight')"
   ]
  },
  {
   "cell_type": "code",
   "execution_count": 15,
   "metadata": {
    "scrolled": true
   },
   "outputs": [
    {
     "data": {
      "image/png": "[encoded data removed]",
      "text/plain": [
       "<Figure size 432x288 with 1 Axes>"
      ]
     },
     "metadata": {
      "needs_background": "light"
     },
     "output_type": "display_data"
    }
   ],
   "source": [
    "feature_importances = pd.Series(clf.get_booster().get_score(importance_type='weight')).sort_values(ascending=False)\n",
    "feature_importances.head(20).plot(kind='bar', title='Feature Importances (weight)')\n",
    "plt.ylabel('Feature Importance Score');\n",
    "plt.savefig(os.path.join(reports, 'xgboost_importances_weight.jpg'), bbox_inches='tight')"
   ]
  },
  {
   "cell_type": "markdown",
   "metadata": {},
   "source": [
    "# model with numerical features and cycle"
   ]
  },
  {
   "cell_type": "raw",
   "metadata": {},
   "source": [
    "model_name = 'tree_xgb_numcyc'\n",
    "columns = ['cycle', 'temperature', 'pressure', 'vibrationx', 'vibrationy', 'vibrationz', 'frequency', 'anomaly_count_lag10']\n",
    "\n",
    "clf = gridsearch_and_save(model_name, parameter_groups, columns)"
   ]
  },
  {
   "cell_type": "markdown",
   "metadata": {},
   "source": [
    "### feature importances"
   ]
  },
  {
   "cell_type": "raw",
   "metadata": {},
   "source": [
    "feature_importances = pd.Series(clf.get_booster().get_score(importance_type='total_gain')).sort_values(ascending=False)\n",
    "feature_importances.head(20).plot(kind='bar', title='Feature Importances (total_gain)')\n",
    "plt.ylabel('Feature Importance Score');\n",
    "plt.savefig(os.path.join(reports, 'xgboost_importances_gain2.jpg'), bbox_inches='tight')"
   ]
  },
  {
   "cell_type": "raw",
   "metadata": {
    "scrolled": false
   },
   "source": [
    "feature_importances = pd.Series(clf.get_booster().get_score(importance_type='weight')).sort_values(ascending=False)\n",
    "feature_importances.head(20).plot(kind='bar', title='Feature Importances (weight)')\n",
    "plt.ylabel('Feature Importance Score');\n",
    "plt.savefig(os.path.join(reports, 'xgboost_importances_weight2.jpg'), bbox_inches='tight')"
   ]
  },
  {
   "cell_type": "markdown",
   "metadata": {},
   "source": [
    "# model with numerical features, cycle, and smote"
   ]
  },
  {
   "cell_type": "raw",
   "metadata": {},
   "source": [
    "model_name = 'tree_xgb_numcyc_smote'\n",
    "columns = ['cycle', 'temperature', 'pressure', 'vibrationx', 'vibrationy', 'vibrationz', 'frequency', 'anomaly_count_lag10']\n",
    "\n",
    "clf = gridsearch_and_save(model_name, parameter_groups, columns, smote=True)"
   ]
  },
  {
   "cell_type": "markdown",
   "metadata": {},
   "source": [
    "### feature importances"
   ]
  },
  {
   "cell_type": "raw",
   "metadata": {},
   "source": [
    "feature_importances = pd.Series(clf.get_booster().get_score(importance_type='total_gain')).sort_values(ascending=False)\n",
    "feature_importances.head(20).plot(kind='bar', title='Feature Importances (total_gain)')\n",
    "plt.ylabel('Feature Importance Score');\n",
    "plt.savefig(os.path.join(reports, 'xgboost_importances_gain2.jpg'), bbox_inches='tight')"
   ]
  },
  {
   "cell_type": "raw",
   "metadata": {
    "scrolled": true
   },
   "source": [
    "feature_importances = pd.Series(clf.get_booster().get_score(importance_type='weight')).sort_values(ascending=False)\n",
    "feature_importances.head(20).plot(kind='bar', title='Feature Importances (weight)')\n",
    "plt.ylabel('Feature Importance Score');\n",
    "plt.savefig(os.path.join(reports, 'xgboost_importances_weight2.jpg'), bbox_inches='tight')"
   ]
  },
  {
   "cell_type": "markdown",
   "metadata": {},
   "source": [
    "# model with numerical features, presets, cycle, and smote"
   ]
  },
  {
   "cell_type": "raw",
   "metadata": {},
   "source": [
    "model_name = 'tree_xgb_numcyc_preset_smote'\n",
    "columns = ['cycle', 'preset_1', 'preset_2', 'temperature', 'pressure', 'vibrationx', 'vibrationy', 'vibrationz', 'frequency', 'anomaly_count_lag10']\n",
    "\n",
    "clf = gridsearch_and_save(model_name, parameter_groups, columns, smote=True)"
   ]
  },
  {
   "cell_type": "markdown",
   "metadata": {},
   "source": [
    "# model with numerical features"
   ]
  },
  {
   "cell_type": "raw",
   "metadata": {},
   "source": [
    "model_name = 'tree_xgb_num'\n",
    "columns = ['temperature', 'pressure', 'vibrationx', 'vibrationy', 'vibrationz', 'frequency', 'anomaly_count_lag10']\n",
    "\n",
    "clf = gridsearch_and_save(model_name, parameter_groups, columns)"
   ]
  },
  {
   "cell_type": "markdown",
   "metadata": {},
   "source": [
    "### feature importances"
   ]
  },
  {
   "cell_type": "raw",
   "metadata": {},
   "source": [
    "feature_importances = pd.Series(clf.get_booster().get_score(importance_type='total_gain')).sort_values(ascending=False)\n",
    "feature_importances.head(20).plot(kind='bar', title='Feature Importances (weight)')\n",
    "plt.ylabel('Feature Importance Score');\n",
    "plt.savefig(os.path.join(reports, 'xgboost_importances_gain3.jpg'), bbox_inches='tight')"
   ]
  },
  {
   "cell_type": "raw",
   "metadata": {
    "scrolled": false
   },
   "source": [
    "feature_importances = pd.Series(clf.get_booster().get_score(importance_type='weight')).sort_values(ascending=False)\n",
    "feature_importances.head(20).plot(kind='bar', title='Feature Importances')\n",
    "plt.ylabel('Feature Importance Score');\n",
    "plt.savefig(os.path.join(reports, 'xgboost_importances_weight3.jpg'), bbox_inches='tight')"
   ]
  },
  {
   "cell_type": "code",
   "execution_count": null,
   "metadata": {},
   "outputs": [],
   "source": []
  }
 ],
 "metadata": {
  "kernelspec": {
   "display_name": "Python 3",
   "language": "python",
   "name": "python3"
  },
  "language_info": {
   "codemirror_mode": {
    "name": "ipython",
    "version": 3
   },
   "file_extension": ".py",
   "mimetype": "text/x-python",
   "name": "python",
   "nbconvert_exporter": "python",
   "pygments_lexer": "ipython3",
   "version": "3.7.5"
  }
 },
 "nbformat": 4,
 "nbformat_minor": 4
}
