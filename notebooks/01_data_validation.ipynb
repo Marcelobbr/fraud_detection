{
 "cells": [
  {
   "cell_type": "markdown",
   "metadata": {},
   "source": [
    "# Data validation\n",
    "This is a mostly manual section, where we check data validity and inconsistencies. Also, it is important for the data to be resilient to bugs."
   ]
  },
  {
   "cell_type": "code",
   "execution_count": 24,
   "metadata": {},
   "outputs": [],
   "source": [
    "import os\n",
    "import pickle as pkl\n",
    "import re\n",
    "import sys\n",
    "import warnings\n",
    "\n",
    "import matplotlib.pyplot as plt\n",
    "import numpy as np\n",
    "import pandas as pd\n",
    "import seaborn as sns\n",
    "\n",
    "# %matplotlib inline\n",
    "warnings.filterwarnings('ignore')"
   ]
  },
  {
   "cell_type": "markdown",
   "metadata": {},
   "source": [
    "# set sandbox_mode boolean for image building\n",
    "* if sandbox_mode == True: faster to run, but images won't be generated"
   ]
  },
  {
   "cell_type": "code",
   "execution_count": 25,
   "metadata": {},
   "outputs": [],
   "source": [
    "sandbox_mode = True"
   ]
  },
  {
   "cell_type": "markdown",
   "metadata": {},
   "source": [
    "# define functions"
   ]
  },
  {
   "cell_type": "code",
   "execution_count": 26,
   "metadata": {},
   "outputs": [],
   "source": [
    "# get numerical columns\n",
    "def get_numerical_mask(df):\n",
    "    type_mask = []\n",
    "    for i in df.dtypes:\n",
    "        if str(i).startswith('float') or str(i).startswith('int'): # or str(i).startswith('bool')\n",
    "            type_mask.append(True)\n",
    "        else: type_mask.append(False)\n",
    "    num_cols = list(np.array(df.columns)[type_mask])\n",
    "    other_cols = list(np.array(df.columns)[[not elem for elem in type_mask]])\n",
    "    \n",
    "    return num_cols, other_cols\n",
    "\n",
    "# build boxplots\n",
    "def build_boxplots(df, file):\n",
    "    \n",
    "    plt.close()\n",
    "    \n",
    "    cols = df.columns\n",
    "    fig, axes = plt.subplots(1,len(cols),figsize=(15,5))\n",
    "\n",
    "    for ax,col in zip(axes, cols):\n",
    "        sns.boxplot(y = col, data = df[cols], ax = ax, width=.1)\n",
    "    plt.tight_layout()\n",
    "    plt.plot()\n",
    "    \n",
    "    # save file\n",
    "    file = '01boxplot_'+file+'.jpg'\n",
    "    plt.savefig(os.path.join(reports,file), bbox_inches = \"tight\")"
   ]
  },
  {
   "cell_type": "markdown",
   "metadata": {},
   "source": [
    "# Define paths and capture data"
   ]
  },
  {
   "cell_type": "code",
   "execution_count": 27,
   "metadata": {},
   "outputs": [],
   "source": [
    "inputs = os.path.join('..', 'data', '01_raw')\n",
    "outputs = os.path.join('..', 'data', '02_intermediate')\n",
    "reports = os.path.join('..', 'data', '06_reporting')\n",
    "\n",
    "# filename = 'O&G Equipment Data.csv'\n",
    "# data = pd.read_csv(os.path.join(inputs, filename), sep = ';')\n",
    "filename = 'O&G Equipment Data.xlsx'\n",
    "data = pd.read_excel(os.path.join(inputs, filename))"
   ]
  },
  {
   "cell_type": "markdown",
   "metadata": {},
   "source": [
    "# standardize data\n",
    "For now I am going to consider that cycle might be an important feature: machine's probability to fail might increase according to how long it is being used.\n",
    "\n",
    "Also, I'll manually set id.\n",
    "\n",
    "Further investigation is needed, but it seems a reasonable inference for now."
   ]
  },
  {
   "cell_type": "code",
   "execution_count": 28,
   "metadata": {},
   "outputs": [],
   "source": [
    "data.rename({c: c.lower() for c in data.columns}, axis=1, inplace=True)\n",
    "data.rename({'fail': 'y'}, axis=1, inplace=True)\n",
    "data.index.rename('id', inplace=True)"
   ]
  },
  {
   "cell_type": "markdown",
   "metadata": {},
   "source": [
    "# check duplicates for main data"
   ]
  },
  {
   "cell_type": "code",
   "execution_count": 29,
   "metadata": {
    "scrolled": true
   },
   "outputs": [
    {
     "name": "stdout",
     "output_type": "stream",
     "text": [
      "number of removed duplicates: 0\n"
     ]
    }
   ],
   "source": [
    "def duplicate_cleanup(df, col_id):\n",
    "    original_size = df.shape[0]\n",
    "    col_subset = df.columns.to_list()\n",
    "    n_duplicates = df[(df.duplicated(col_subset))].shape[0]\n",
    "    df.drop_duplicates(col_subset, inplace=True)\n",
    "    print('number of removed duplicates:', n_duplicates)\n",
    "    \n",
    "    true_duplicates = df[(df.duplicated(col_id))].shape[0]\n",
    "    if true_duplicates != 0:\n",
    "        raise ValueError('There are still duplicates to verify')\n",
    "        \n",
    "    return df\n",
    "\n",
    "data = duplicate_cleanup(data, 'cycle')"
   ]
  },
  {
   "cell_type": "markdown",
   "metadata": {},
   "source": [
    "# build new variables"
   ]
  },
  {
   "cell_type": "code",
   "execution_count": 30,
   "metadata": {},
   "outputs": [],
   "source": [
    "for i in range(0,data.shape[0]-3):\n",
    "    data.loc[data.index[i+3],'lag_1'] = data.loc[i+2,'y']\n",
    "    data.loc[data.index[i+3],'lag_2'] = data.loc[i+1,'y'] and data.loc[i+2,'y']\n",
    "    data.loc[data.index[i+3],'lag_3'] = data.loc[i,'y'] and data.loc[i+1,'y'] and data.loc[i+2,'y']\n",
    "    \n",
    "# bool -> int\n",
    "for col in ['lag_1', 'lag_2', 'lag_3']:\n",
    "    data[col] = data[col]*1\n",
    "    \n",
    "for i in range(0,data.shape[0]-1):\n",
    "#     data.loc[data.index[i],'y_forecast1'] = (data.loc[i,'y'] and data.loc[i+1,'y'])\n",
    "    data.loc[data.index[i],'y_forecast1'] = data.loc[i+1,'y']"
   ]
  },
  {
   "cell_type": "code",
   "execution_count": null,
   "metadata": {},
   "outputs": [],
   "source": []
  },
  {
   "cell_type": "markdown",
   "metadata": {},
   "source": [
    "#### get composed preset\n",
    "I abandoned this transformation as I verified that it is not important"
   ]
  },
  {
   "cell_type": "code",
   "execution_count": 31,
   "metadata": {},
   "outputs": [],
   "source": [
    "# def get_comp(preset1, preset2):\n",
    "#     preset = str(preset1)+str(preset2)\n",
    "#     preset = int(preset)\n",
    "#     return preset\n",
    "# data['preset_comp'] = data.apply(lambda x: get_comp(x['preset_1'], x['preset_2']), axis=1)"
   ]
  },
  {
   "cell_type": "markdown",
   "metadata": {},
   "source": [
    "#### check nans"
   ]
  },
  {
   "cell_type": "code",
   "execution_count": 32,
   "metadata": {
    "scrolled": true
   },
   "outputs": [
    {
     "data": {
      "text/html": [
       "<div>\n",
       "<style scoped>\n",
       "    .dataframe tbody tr th:only-of-type {\n",
       "        vertical-align: middle;\n",
       "    }\n",
       "\n",
       "    .dataframe tbody tr th {\n",
       "        vertical-align: top;\n",
       "    }\n",
       "\n",
       "    .dataframe thead th {\n",
       "        text-align: right;\n",
       "    }\n",
       "</style>\n",
       "<table border=\"1\" class=\"dataframe\">\n",
       "  <thead>\n",
       "    <tr style=\"text-align: right;\">\n",
       "      <th></th>\n",
       "      <th>cycle</th>\n",
       "      <th>preset_1</th>\n",
       "      <th>preset_2</th>\n",
       "      <th>temperature</th>\n",
       "      <th>pressure</th>\n",
       "      <th>vibrationx</th>\n",
       "      <th>vibrationy</th>\n",
       "      <th>vibrationz</th>\n",
       "      <th>frequency</th>\n",
       "      <th>y</th>\n",
       "      <th>lag_1</th>\n",
       "      <th>lag_2</th>\n",
       "      <th>lag_3</th>\n",
       "      <th>y_forecast1</th>\n",
       "    </tr>\n",
       "    <tr>\n",
       "      <th>id</th>\n",
       "      <th></th>\n",
       "      <th></th>\n",
       "      <th></th>\n",
       "      <th></th>\n",
       "      <th></th>\n",
       "      <th></th>\n",
       "      <th></th>\n",
       "      <th></th>\n",
       "      <th></th>\n",
       "      <th></th>\n",
       "      <th></th>\n",
       "      <th></th>\n",
       "      <th></th>\n",
       "      <th></th>\n",
       "    </tr>\n",
       "  </thead>\n",
       "  <tbody>\n",
       "    <tr>\n",
       "      <th>0</th>\n",
       "      <td>1</td>\n",
       "      <td>3</td>\n",
       "      <td>6</td>\n",
       "      <td>44.235186</td>\n",
       "      <td>47.657254</td>\n",
       "      <td>46.441769</td>\n",
       "      <td>64.820327</td>\n",
       "      <td>66.454520</td>\n",
       "      <td>44.483250</td>\n",
       "      <td>False</td>\n",
       "      <td>NaN</td>\n",
       "      <td>NaN</td>\n",
       "      <td>NaN</td>\n",
       "      <td>False</td>\n",
       "    </tr>\n",
       "    <tr>\n",
       "      <th>1</th>\n",
       "      <td>2</td>\n",
       "      <td>2</td>\n",
       "      <td>4</td>\n",
       "      <td>60.807234</td>\n",
       "      <td>63.172076</td>\n",
       "      <td>62.005951</td>\n",
       "      <td>80.714431</td>\n",
       "      <td>81.246405</td>\n",
       "      <td>60.228715</td>\n",
       "      <td>False</td>\n",
       "      <td>NaN</td>\n",
       "      <td>NaN</td>\n",
       "      <td>NaN</td>\n",
       "      <td>False</td>\n",
       "    </tr>\n",
       "    <tr>\n",
       "      <th>2</th>\n",
       "      <td>3</td>\n",
       "      <td>2</td>\n",
       "      <td>1</td>\n",
       "      <td>79.027536</td>\n",
       "      <td>83.032190</td>\n",
       "      <td>82.642110</td>\n",
       "      <td>98.254386</td>\n",
       "      <td>98.785196</td>\n",
       "      <td>80.993479</td>\n",
       "      <td>False</td>\n",
       "      <td>NaN</td>\n",
       "      <td>NaN</td>\n",
       "      <td>NaN</td>\n",
       "      <td>False</td>\n",
       "    </tr>\n",
       "    <tr>\n",
       "      <th>799</th>\n",
       "      <td>800</td>\n",
       "      <td>3</td>\n",
       "      <td>1</td>\n",
       "      <td>80.854011</td>\n",
       "      <td>110.543701</td>\n",
       "      <td>121.032227</td>\n",
       "      <td>131.719473</td>\n",
       "      <td>90.331155</td>\n",
       "      <td>71.261717</td>\n",
       "      <td>True</td>\n",
       "      <td>1</td>\n",
       "      <td>1</td>\n",
       "      <td>1</td>\n",
       "      <td>NaN</td>\n",
       "    </tr>\n",
       "  </tbody>\n",
       "</table>\n",
       "</div>"
      ],
      "text/plain": [
       "     cycle  preset_1  preset_2  temperature    pressure  vibrationx  \\\n",
       "id                                                                    \n",
       "0        1         3         6    44.235186   47.657254   46.441769   \n",
       "1        2         2         4    60.807234   63.172076   62.005951   \n",
       "2        3         2         1    79.027536   83.032190   82.642110   \n",
       "799    800         3         1    80.854011  110.543701  121.032227   \n",
       "\n",
       "     vibrationy  vibrationz  frequency      y lag_1 lag_2 lag_3 y_forecast1  \n",
       "id                                                                           \n",
       "0     64.820327   66.454520  44.483250  False   NaN   NaN   NaN       False  \n",
       "1     80.714431   81.246405  60.228715  False   NaN   NaN   NaN       False  \n",
       "2     98.254386   98.785196  80.993479  False   NaN   NaN   NaN       False  \n",
       "799  131.719473   90.331155  71.261717   True     1     1     1         NaN  "
      ]
     },
     "execution_count": 32,
     "metadata": {},
     "output_type": "execute_result"
    }
   ],
   "source": [
    "data[data.isnull().any(axis=1)]"
   ]
  },
  {
   "cell_type": "markdown",
   "metadata": {},
   "source": [
    "#### consider dropping rows because of nan on lag or forecast"
   ]
  },
  {
   "cell_type": "code",
   "execution_count": 33,
   "metadata": {},
   "outputs": [],
   "source": [
    "# data.dropna(inplace=True)\n",
    "data = data[~data['y_forecast1'].isna()]"
   ]
  },
  {
   "cell_type": "markdown",
   "metadata": {},
   "source": [
    "# drop unused columns"
   ]
  },
  {
   "cell_type": "markdown",
   "metadata": {},
   "source": [
    "skipped as it is not needed for now"
   ]
  },
  {
   "cell_type": "markdown",
   "metadata": {},
   "source": [
    "# Checking  for possible anomalies in the database\n",
    "Here we check for some possible anomalies. If there was one, we should look for solutions such as: contact the team responsible for data engineering or anyone who has a good understanding of the provided data, search for flaws in the data pipeline, or at least document for those anomalies."
   ]
  },
  {
   "cell_type": "markdown",
   "metadata": {},
   "source": [
    "Check if there is any oddity in data."
   ]
  },
  {
   "cell_type": "code",
   "execution_count": 34,
   "metadata": {
    "scrolled": false
   },
   "outputs": [
    {
     "data": {
      "text/html": [
       "<div>\n",
       "<style scoped>\n",
       "    .dataframe tbody tr th:only-of-type {\n",
       "        vertical-align: middle;\n",
       "    }\n",
       "\n",
       "    .dataframe tbody tr th {\n",
       "        vertical-align: top;\n",
       "    }\n",
       "\n",
       "    .dataframe thead th {\n",
       "        text-align: right;\n",
       "    }\n",
       "</style>\n",
       "<table border=\"1\" class=\"dataframe\">\n",
       "  <thead>\n",
       "    <tr style=\"text-align: right;\">\n",
       "      <th></th>\n",
       "      <th>cycle</th>\n",
       "      <th>preset_1</th>\n",
       "      <th>preset_2</th>\n",
       "      <th>temperature</th>\n",
       "      <th>pressure</th>\n",
       "      <th>vibrationx</th>\n",
       "      <th>vibrationy</th>\n",
       "      <th>vibrationz</th>\n",
       "      <th>frequency</th>\n",
       "    </tr>\n",
       "  </thead>\n",
       "  <tbody>\n",
       "    <tr>\n",
       "      <th>count</th>\n",
       "      <td>799.000000</td>\n",
       "      <td>799.000000</td>\n",
       "      <td>799.000000</td>\n",
       "      <td>799.000000</td>\n",
       "      <td>799.000000</td>\n",
       "      <td>799.000000</td>\n",
       "      <td>799.000000</td>\n",
       "      <td>799.000000</td>\n",
       "      <td>799.000000</td>\n",
       "    </tr>\n",
       "    <tr>\n",
       "      <th>mean</th>\n",
       "      <td>400.000000</td>\n",
       "      <td>1.987484</td>\n",
       "      <td>4.555695</td>\n",
       "      <td>69.248987</td>\n",
       "      <td>78.958463</td>\n",
       "      <td>73.801236</td>\n",
       "      <td>72.713120</td>\n",
       "      <td>71.843101</td>\n",
       "      <td>68.219647</td>\n",
       "    </tr>\n",
       "    <tr>\n",
       "      <th>std</th>\n",
       "      <td>230.795725</td>\n",
       "      <td>0.805584</td>\n",
       "      <td>2.291225</td>\n",
       "      <td>25.548948</td>\n",
       "      <td>32.502990</td>\n",
       "      <td>31.204488</td>\n",
       "      <td>32.693677</td>\n",
       "      <td>27.854379</td>\n",
       "      <td>29.156755</td>\n",
       "    </tr>\n",
       "    <tr>\n",
       "      <th>min</th>\n",
       "      <td>1.000000</td>\n",
       "      <td>1.000000</td>\n",
       "      <td>1.000000</td>\n",
       "      <td>2.089354</td>\n",
       "      <td>3.480279</td>\n",
       "      <td>3.846343</td>\n",
       "      <td>10.057744</td>\n",
       "      <td>18.784169</td>\n",
       "      <td>4.380101</td>\n",
       "    </tr>\n",
       "    <tr>\n",
       "      <th>25%</th>\n",
       "      <td>200.500000</td>\n",
       "      <td>1.000000</td>\n",
       "      <td>3.000000</td>\n",
       "      <td>51.014242</td>\n",
       "      <td>55.480793</td>\n",
       "      <td>50.698623</td>\n",
       "      <td>48.498192</td>\n",
       "      <td>50.776070</td>\n",
       "      <td>45.788589</td>\n",
       "    </tr>\n",
       "    <tr>\n",
       "      <th>50%</th>\n",
       "      <td>400.000000</td>\n",
       "      <td>2.000000</td>\n",
       "      <td>5.000000</td>\n",
       "      <td>65.885436</td>\n",
       "      <td>75.000457</td>\n",
       "      <td>69.380923</td>\n",
       "      <td>65.406638</td>\n",
       "      <td>69.308268</td>\n",
       "      <td>65.646454</td>\n",
       "    </tr>\n",
       "    <tr>\n",
       "      <th>75%</th>\n",
       "      <td>599.500000</td>\n",
       "      <td>3.000000</td>\n",
       "      <td>7.000000</td>\n",
       "      <td>80.488039</td>\n",
       "      <td>99.251920</td>\n",
       "      <td>90.044297</td>\n",
       "      <td>94.009832</td>\n",
       "      <td>88.861568</td>\n",
       "      <td>90.118268</td>\n",
       "    </tr>\n",
       "    <tr>\n",
       "      <th>max</th>\n",
       "      <td>799.000000</td>\n",
       "      <td>3.000000</td>\n",
       "      <td>8.000000</td>\n",
       "      <td>255.607829</td>\n",
       "      <td>189.995681</td>\n",
       "      <td>230.861142</td>\n",
       "      <td>193.569947</td>\n",
       "      <td>230.951134</td>\n",
       "      <td>178.090303</td>\n",
       "    </tr>\n",
       "  </tbody>\n",
       "</table>\n",
       "</div>"
      ],
      "text/plain": [
       "            cycle    preset_1    preset_2  temperature    pressure  \\\n",
       "count  799.000000  799.000000  799.000000   799.000000  799.000000   \n",
       "mean   400.000000    1.987484    4.555695    69.248987   78.958463   \n",
       "std    230.795725    0.805584    2.291225    25.548948   32.502990   \n",
       "min      1.000000    1.000000    1.000000     2.089354    3.480279   \n",
       "25%    200.500000    1.000000    3.000000    51.014242   55.480793   \n",
       "50%    400.000000    2.000000    5.000000    65.885436   75.000457   \n",
       "75%    599.500000    3.000000    7.000000    80.488039   99.251920   \n",
       "max    799.000000    3.000000    8.000000   255.607829  189.995681   \n",
       "\n",
       "       vibrationx  vibrationy  vibrationz   frequency  \n",
       "count  799.000000  799.000000  799.000000  799.000000  \n",
       "mean    73.801236   72.713120   71.843101   68.219647  \n",
       "std     31.204488   32.693677   27.854379   29.156755  \n",
       "min      3.846343   10.057744   18.784169    4.380101  \n",
       "25%     50.698623   48.498192   50.776070   45.788589  \n",
       "50%     69.380923   65.406638   69.308268   65.646454  \n",
       "75%     90.044297   94.009832   88.861568   90.118268  \n",
       "max    230.861142  193.569947  230.951134  178.090303  "
      ]
     },
     "execution_count": 34,
     "metadata": {},
     "output_type": "execute_result"
    }
   ],
   "source": [
    "data.loc[:, ].describe()"
   ]
  },
  {
   "cell_type": "markdown",
   "metadata": {},
   "source": [
    "# boxplots\n",
    "This is useful to check for outliers, which will be handled later. Also, some values might be misleading, requiring a preimputation step. For instance: hours per week shouldn't surpass 140. Age shouldn't go well beyond 90."
   ]
  },
  {
   "cell_type": "code",
   "execution_count": 35,
   "metadata": {},
   "outputs": [],
   "source": [
    "numerical_cols, other_cols = get_numerical_mask(data)"
   ]
  },
  {
   "cell_type": "code",
   "execution_count": 36,
   "metadata": {},
   "outputs": [
    {
     "name": "stdout",
     "output_type": "stream",
     "text": [
      "['cycle', 'preset_1', 'preset_2', 'temperature', 'pressure', 'vibrationx', 'vibrationy', 'vibrationz', 'frequency']\n"
     ]
    }
   ],
   "source": [
    "print(numerical_cols)"
   ]
  },
  {
   "cell_type": "code",
   "execution_count": 37,
   "metadata": {},
   "outputs": [],
   "source": [
    "partition = int(len(numerical_cols)/1)"
   ]
  },
  {
   "cell_type": "code",
   "execution_count": 38,
   "metadata": {},
   "outputs": [],
   "source": [
    "if not sandbox_mode:\n",
    "    build_boxplots(data[numerical_cols[:partition]], '01')"
   ]
  },
  {
   "cell_type": "raw",
   "metadata": {},
   "source": [
    "if not sandbox_mode:\n",
    "    build_boxplots(data[numerical_cols[partition:2*partition]], '02')"
   ]
  },
  {
   "cell_type": "markdown",
   "metadata": {},
   "source": [
    "# measure intervals and frequency"
   ]
  },
  {
   "cell_type": "code",
   "execution_count": 39,
   "metadata": {},
   "outputs": [],
   "source": [
    "count = 0\n",
    "intervals = []\n",
    "previous = False\n",
    "for i, row in data.iterrows():\n",
    "    count += 1\n",
    "    if row['y'] == True and previous == False:\n",
    "        intervals.append(count)\n",
    "        count = 0\n",
    "    previous = row['y']"
   ]
  },
  {
   "cell_type": "code",
   "execution_count": 40,
   "metadata": {},
   "outputs": [],
   "source": [
    "y = data['y']\n",
    "cumsum = (y * (y.groupby((y != y.shift()).cumsum()).cumcount() + 1)).to_list()\n",
    "\n",
    "count = 0\n",
    "frequencies = []\n",
    "previous = 0\n",
    "for i, value in enumerate(cumsum):\n",
    "    if (value == 0 and count > 0):\n",
    "        frequencies.append(count)\n",
    "    elif (i == len(cumsum)-1 and value > 0):\n",
    "        frequencies.append(value)\n",
    "    count = value"
   ]
  },
  {
   "cell_type": "code",
   "execution_count": 41,
   "metadata": {},
   "outputs": [
    {
     "data": {
      "text/plain": [
       "[1, 3, 3, 3, 2, 18, 9, 5, 14, 7]"
      ]
     },
     "execution_count": 41,
     "metadata": {},
     "output_type": "execute_result"
    }
   ],
   "source": [
    "frequencies"
   ]
  },
  {
   "cell_type": "code",
   "execution_count": 42,
   "metadata": {},
   "outputs": [
    {
     "data": {
      "text/plain": [
       "[12, 156, 162, 262, 269, 414, 537, 549, 699, 792]"
      ]
     },
     "execution_count": 42,
     "metadata": {},
     "output_type": "execute_result"
    }
   ],
   "source": [
    "indexes = data[(data['y'] == True) & (data['lag_1'] == False)].index.to_list()\n",
    "indexes"
   ]
  },
  {
   "cell_type": "code",
   "execution_count": 43,
   "metadata": {},
   "outputs": [],
   "source": [
    "ind_plot = list(range(len(cumsum)))\n",
    "freq_plot = [0]*len(cumsum)\n",
    "\n",
    "for i, index in enumerate(indexes):\n",
    "    ind_plot[index] = indexes[i]\n",
    "    freq_plot[index] = frequencies[i]"
   ]
  },
  {
   "cell_type": "code",
   "execution_count": 44,
   "metadata": {},
   "outputs": [],
   "source": [
    "if not sandbox_mode:\n",
    "    color = sns.color_palette()\n",
    "    plt.figure(figsize=(16,4))\n",
    "    plt.bar(ind_plot, freq_plot, alpha=0.8, color=color[0], width=3)\n",
    "    # sns.barplot([0,1], [0,1], alpha=0.8, color=color[0])\n",
    "    plt.ylabel('Number of occurrences', fontsize=12)\n",
    "    plt.xlabel('Failed', fontsize=12)\n",
    "    plt.tick_params(\n",
    "        axis='x', which='both', bottom=False, top=False, labelbottom=False)\n",
    "\n",
    "    plt.plot()\n",
    "    plt.savefig(os.path.join(reports,'fail_freq.jpg'), bbox_inches = \"tight\")"
   ]
  },
  {
   "cell_type": "markdown",
   "metadata": {},
   "source": [
    "# choose response variable\n",
    "current y is the 'Failed' variable, but we might decide to change it to y_forecast1, which considers Failures on T+1.\n",
    "\n",
    "One of those variables must be dropped."
   ]
  },
  {
   "cell_type": "code",
   "execution_count": 45,
   "metadata": {},
   "outputs": [],
   "source": [
    "data['y'] = data['y_forecast1']\n",
    "data.drop(['y_forecast1'], axis=1, inplace=True)"
   ]
  },
  {
   "cell_type": "markdown",
   "metadata": {},
   "source": [
    "# save data"
   ]
  },
  {
   "cell_type": "code",
   "execution_count": 46,
   "metadata": {},
   "outputs": [],
   "source": [
    "data.to_csv(os.path.join(outputs, 'data.csv'))"
   ]
  },
  {
   "cell_type": "code",
   "execution_count": null,
   "metadata": {},
   "outputs": [],
   "source": []
  }
 ],
 "metadata": {
  "kernelspec": {
   "display_name": "Python 3",
   "language": "python",
   "name": "python3"
  },
  "language_info": {
   "codemirror_mode": {
    "name": "ipython",
    "version": 3
   },
   "file_extension": ".py",
   "mimetype": "text/x-python",
   "name": "python",
   "nbconvert_exporter": "python",
   "pygments_lexer": "ipython3",
   "version": "3.7.5"
  }
 },
 "nbformat": 4,
 "nbformat_minor": 4
}
