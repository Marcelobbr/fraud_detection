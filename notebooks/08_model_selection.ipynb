{
 "cells": [
  {
   "cell_type": "code",
   "execution_count": 13,
   "metadata": {},
   "outputs": [],
   "source": [
    "import json\n",
    "import os\n",
    "import re\n",
    "import sys\n",
    "import warnings\n",
    "\n",
    "import matplotlib.pyplot as plt\n",
    "import numpy as np\n",
    "import pandas as pd\n",
    "import statistics\n",
    "import statsmodels.api as sm\n",
    "from pprint import pprint\n",
    "\n",
    "# %matplotlib inline\n",
    "warnings.filterwarnings('ignore')"
   ]
  },
  {
   "cell_type": "code",
   "execution_count": 14,
   "metadata": {},
   "outputs": [],
   "source": [
    "sys.path.append(os.path.join('..', 'src'))"
   ]
  },
  {
   "cell_type": "code",
   "execution_count": 15,
   "metadata": {},
   "outputs": [],
   "source": [
    "import importlib\n",
    "import model\n",
    "importlib.reload(model)\n",
    "from model import get_model_params, timer, measure_prediction_time, apply_ml_model, save_model_parameters, save_model_metrics"
   ]
  },
  {
   "cell_type": "markdown",
   "metadata": {},
   "source": [
    "# define functions"
   ]
  },
  {
   "cell_type": "code",
   "execution_count": 16,
   "metadata": {},
   "outputs": [],
   "source": [
    "import operator\n",
    "def plot_user_metric(results, user_metric):\n",
    "    file = '06metric_'+user_metric+'.jpg'\n",
    "    tup_results = sorted(results.items(), key=operator.itemgetter(1))\n",
    "\n",
    "    N = len(results)\n",
    "    ind = np.arange(N)  # the x locations for the groups\n",
    "    width = 0.40       # the width of the bars\n",
    "\n",
    "    fig = plt.figure(figsize=(8,2))\n",
    "    ax = fig.add_subplot(111)\n",
    "    rects = ax.bar(ind+0.5, list(zip(*tup_results))[1], width,)\n",
    "    for rect in rects:\n",
    "        height = rect.get_height()\n",
    "        ax.text(rect.get_x()+rect.get_width()/2., \n",
    "                1.005*height, \n",
    "                '{0:.4f}'.format(height), \n",
    "                ha='center', \n",
    "                va='bottom',)\n",
    "\n",
    "    ax.set_xlabel('ML model')\n",
    "    \n",
    "    ax.set_ylabel(user_metric)\n",
    "    ax.set_title(\"{} comparison\".format(user_metric))\n",
    "    \n",
    "    # set ylim\n",
    "    ylim = max(results.values())*1.2\n",
    "    ax.set_ylim([0, ylim])\n",
    "        \n",
    "    ax.set_xticks(ind + width/2.)\n",
    "    ax.set_xticklabels(list(zip(*tup_results))[0], rotation=30)\n",
    "#     print(\"Order of models:\", list(zip(*tup_results))[0])\n",
    "    \n",
    "    plt.plot()\n",
    "    plt.savefig(os.path.join(reports,file), bbox_inches = \"tight\")"
   ]
  },
  {
   "cell_type": "markdown",
   "metadata": {},
   "source": [
    "# Data capture"
   ]
  },
  {
   "cell_type": "code",
   "execution_count": 17,
   "metadata": {},
   "outputs": [
    {
     "name": "stdout",
     "output_type": "stream",
     "text": [
      "(7000, 46)\n",
      "(7000, 150)\n",
      "(7000, 1)\n"
     ]
    }
   ],
   "source": [
    "inputs = os.path.join('..', 'data', '03_processed')\n",
    "models_reports = os.path.join('..', 'data', '04_models')\n",
    "model_outputs = os.path.join('..', 'data', '05_model_output')\n",
    "reports = os.path.join('..', 'data', '06_reporting')\n",
    "\n",
    "# data_list = ['X_train', 'X_test', 'X_train_oh', 'X_test_oh', 'y_train', 'y_test']\n",
    "# dfs_dict = build_data_dict(inputs, data_list)\n",
    "\n",
    "X_train                = pd.read_csv(os.path.join(inputs, 'X_train.csv'), index_col='id')\n",
    "X_train_onehot         = pd.read_csv(os.path.join(inputs, 'X_train_onehot.csv'), index_col='id')\n",
    "y_train                = pd.read_csv(os.path.join(inputs, 'y_train.csv'), index_col='id')\n",
    "y_test                 = pd.read_csv(os.path.join(inputs, 'y_test.csv'), index_col='id')\n",
    "\n",
    "data_list = [X_train, X_train_onehot, y_train]\n",
    "\n",
    "for df in data_list:\n",
    "    print(df.shape)"
   ]
  },
  {
   "cell_type": "markdown",
   "metadata": {},
   "source": [
    "# Machine Learning"
   ]
  },
  {
   "cell_type": "code",
   "execution_count": 18,
   "metadata": {},
   "outputs": [],
   "source": [
    "from sklearn.preprocessing import StandardScaler\n",
    "from sklearn.impute import SimpleImputer as Imputer\n",
    "from sklearn.pipeline import Pipeline\n",
    "from sklearn.model_selection import train_test_split, GridSearchCV\n",
    "# from sklearn.metrics import classification_report, roc_curve, precision_recall_curve, confusion_matrix\n",
    "# from sklearn.metrics import accuracy_score, log_loss, f1_score\n",
    "from sklearn.metrics import mean_absolute_error, mean_squared_error, r2_score"
   ]
  },
  {
   "cell_type": "markdown",
   "metadata": {},
   "source": [
    "## Baseline classifiers\n",
    "We could always start with simple baselines. For regression, we could use a simple Lasso with no hyperparameter tuning. Lasso is L1 regularization and penalizes high complexity of the model."
   ]
  },
  {
   "cell_type": "code",
   "execution_count": 19,
   "metadata": {},
   "outputs": [],
   "source": [
    "ml_dict, time_dict = {'standard': {}, 'smote': {}, 'no_col': {}}, {'standard': {}, 'smote': {}, 'no_col': {}}"
   ]
  },
  {
   "cell_type": "markdown",
   "metadata": {},
   "source": [
    "### 1) using Linear Regression (no hyperparameter tuning)"
   ]
  },
  {
   "cell_type": "code",
   "execution_count": 20,
   "metadata": {},
   "outputs": [],
   "source": [
    "from sklearn.linear_model import LinearRegression\n",
    "from sklearn.linear_model import LogisticRegression"
   ]
  },
  {
   "cell_type": "code",
   "execution_count": 21,
   "metadata": {},
   "outputs": [],
   "source": [
    "ml_dict = {}\n",
    "# # for key in ['standard', 'skewed', 'no_col', 'no_col_skewed', 'oh']:\n",
    "# for key in ['standard']:\n",
    "#     ml_dict[key] = {}\n",
    "# ml_dict"
   ]
  },
  {
   "cell_type": "code",
   "execution_count": 22,
   "metadata": {},
   "outputs": [
    {
     "name": "stdout",
     "output_type": "stream",
     "text": [
      "test type: False\n"
     ]
    }
   ],
   "source": [
    "ml_model = 'baseline'\n",
    "columns = X_train_onehot.columns\n",
    "# scoring = 'neg_mean_squared_error'\n",
    "scoring = 'f1'\n",
    "\n",
    "# parameters = {}\n",
    "# model = LinearRegression()\n",
    "# do_transform_label = 'log'\n",
    "parameters = {'model__random_state':[42]}\n",
    "model = LogisticRegression()\n",
    "do_transform_label = None\n",
    "clf, train_time, prediction_time = apply_ml_model(\n",
    "    X_train_onehot, y_train, columns, model, parameters, scoring, \n",
    "    do_build_polynomals=False, do_transform_label=do_transform_label, do_treat_skewness=False,\n",
    "    imputation=Imputer(strategy='median'), scaler=StandardScaler(),\n",
    "    testing=False)\n",
    "\n",
    "# key= 'standard'\n",
    "if scoring == 'neg_mean_squared_error':\n",
    "    clf.best_score_ = -clf.best_score_\n",
    "ml_dict[ml_model] = {}\n",
    "ml_dict[ml_model]['best_params'] = clf.best_params_\n",
    "ml_dict[ml_model]['best_score'] = clf.best_score_\n",
    "ml_dict[ml_model]['train_time'] = train_time\n",
    "ml_dict[ml_model]['prediction_time'] = prediction_time"
   ]
  },
  {
   "cell_type": "markdown",
   "metadata": {},
   "source": [
    "### ML models"
   ]
  },
  {
   "cell_type": "markdown",
   "metadata": {},
   "source": [
    "Our metric to compare models will be mean squared error. It penalizes outliers more than mean absolute error."
   ]
  },
  {
   "cell_type": "markdown",
   "metadata": {},
   "source": [
    "# load results"
   ]
  },
  {
   "cell_type": "code",
   "execution_count": 23,
   "metadata": {},
   "outputs": [],
   "source": [
    "def load_json_results(filename):\n",
    "    filepath = os.path.join(model_outputs, filename+'.json')\n",
    "    with open(filepath, 'r') as file:\n",
    "        return json.load(file)"
   ]
  },
  {
   "cell_type": "code",
   "execution_count": 24,
   "metadata": {},
   "outputs": [],
   "source": [
    "ml_models = ['reg', 'reg_nocol', 'tree_rf']\n",
    "# ml_models = ['reg_elasticnet']\n",
    "for ml_model in ml_models:\n",
    "    json_results = load_json_results(ml_model)\n",
    "    for key,value in json_results.items():\n",
    "        ml_dict[ml_model] = value"
   ]
  },
  {
   "cell_type": "markdown",
   "metadata": {},
   "source": [
    "### xgboost models"
   ]
  },
  {
   "cell_type": "code",
   "execution_count": 26,
   "metadata": {},
   "outputs": [],
   "source": [
    "# ml_models = ['tree_xgb', 'tree_xgb_num', 'tree_xgb_numcyc', 'tree_xgb_numcyc_smote'] # 'tree_xgb_numcyc_preset_smote'\n",
    "ml_models = ['tree_xgb'] # 'tree_xgb_numcyc_preset_smote'\n",
    "for ml_model in ml_models:\n",
    "    json_results = load_json_results(ml_model)\n",
    "    for key,value in json_results.items():\n",
    "        ml_dict[ml_model] = value"
   ]
  },
  {
   "cell_type": "markdown",
   "metadata": {},
   "source": [
    "# compare results"
   ]
  },
  {
   "cell_type": "code",
   "execution_count": 27,
   "metadata": {},
   "outputs": [
    {
     "name": "stdout",
     "output_type": "stream",
     "text": [
      "baseline\n",
      "reg\n",
      "reg_nocol\n",
      "tree_rf\n",
      "tree_xgb\n"
     ]
    }
   ],
   "source": [
    "dic_results = {}\n",
    "for key,val in ml_dict.items():\n",
    "    print(key)\n",
    "    ml_model = re.sub('clf_.*_(.*)', r'\\1', key)\n",
    "    dic_results[ml_model] = val['best_score']"
   ]
  },
  {
   "cell_type": "code",
   "execution_count": 28,
   "metadata": {},
   "outputs": [
    {
     "data": {
      "image/png": "[encoded data removed]",
      "text/plain": [
       "<Figure size 576x144 with 1 Axes>"
      ]
     },
     "metadata": {
      "needs_background": "light"
     },
     "output_type": "display_data"
    }
   ],
   "source": [
    "plot_user_metric(dic_results, 'score')"
   ]
  },
  {
   "cell_type": "markdown",
   "metadata": {},
   "source": [
    "# time and computational complexity\n",
    "This objective of this section is to simulate complexity of ML models used for this dataset. The ideal approach would be to check computational complexity using Big-O notation or picking different sizes of dataset to see how complexity changes. The absolute value itself can be misleading if we forget that it depends on computer power. Nevertheless, we can do a basic comparison from those models here. The final model should not be based only on score, but also on how long it takes to train, and, for real time applications, how long it takes to give a prediction. Other issues might also be important, such as interpretability, labor cost to build/tune the algorithm and ease of deployment."
   ]
  },
  {
   "cell_type": "markdown",
   "metadata": {},
   "source": [
    "#### Time comparison during training"
   ]
  },
  {
   "cell_type": "code",
   "execution_count": 29,
   "metadata": {},
   "outputs": [],
   "source": [
    "dic_time = {}\n",
    "for key,val in ml_dict.items():\n",
    "    ml_model = re.sub('clf_.*_(.*)', r'\\1', key)\n",
    "    dic_time[ml_model] = val['train_time']"
   ]
  },
  {
   "cell_type": "code",
   "execution_count": 30,
   "metadata": {
    "scrolled": true
   },
   "outputs": [
    {
     "data": {
      "image/png": "[encoded data removed]",
      "text/plain": [
       "<Figure size 576x144 with 1 Axes>"
      ]
     },
     "metadata": {
      "needs_background": "light"
     },
     "output_type": "display_data"
    }
   ],
   "source": [
    "plot_user_metric(dic_time, 'train_time')"
   ]
  },
  {
   "cell_type": "markdown",
   "metadata": {},
   "source": [
    "#### Time comparison during prediction"
   ]
  },
  {
   "cell_type": "code",
   "execution_count": 31,
   "metadata": {},
   "outputs": [],
   "source": [
    "dic_pred = {}\n",
    "for key,val in ml_dict.items():\n",
    "    ml_model = re.sub('clf_.*_(.*)', r'\\1', key)\n",
    "    dic_pred[ml_model] = val['prediction_time']"
   ]
  },
  {
   "cell_type": "code",
   "execution_count": 32,
   "metadata": {},
   "outputs": [
    {
     "data": {
      "image/png": "[encoded data removed]",
      "text/plain": [
       "<Figure size 576x144 with 1 Axes>"
      ]
     },
     "metadata": {
      "needs_background": "light"
     },
     "output_type": "display_data"
    }
   ],
   "source": [
    "plot_user_metric(dic_pred, 'prediction_time')"
   ]
  },
  {
   "cell_type": "code",
   "execution_count": null,
   "metadata": {},
   "outputs": [],
   "source": []
  }
 ],
 "metadata": {
  "kernelspec": {
   "display_name": "Python 3",
   "language": "python",
   "name": "python3"
  },
  "language_info": {
   "codemirror_mode": {
    "name": "ipython",
    "version": 3
   },
   "file_extension": ".py",
   "mimetype": "text/x-python",
   "name": "python",
   "nbconvert_exporter": "python",
   "pygments_lexer": "ipython3",
   "version": "3.7.5"
  }
 },
 "nbformat": 4,
 "nbformat_minor": 4
}
