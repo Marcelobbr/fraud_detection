{
 "cells": [
  {
   "cell_type": "code",
   "execution_count": 1,
   "metadata": {},
   "outputs": [
    {
     "name": "stderr",
     "output_type": "stream",
     "text": [
      "In D:\\Users\\Marcelo\\Anaconda3\\lib\\site-packages\\matplotlib\\mpl-data\\stylelib\\_classic_test.mplstyle: \n",
      "The text.latex.preview rcparam was deprecated in Matplotlib 3.3 and will be removed two minor releases later.\n",
      "In D:\\Users\\Marcelo\\Anaconda3\\lib\\site-packages\\matplotlib\\mpl-data\\stylelib\\_classic_test.mplstyle: \n",
      "The mathtext.fallback_to_cm rcparam was deprecated in Matplotlib 3.3 and will be removed two minor releases later.\n",
      "In D:\\Users\\Marcelo\\Anaconda3\\lib\\site-packages\\matplotlib\\mpl-data\\stylelib\\_classic_test.mplstyle: Support for setting the 'mathtext.fallback_to_cm' rcParam is deprecated since 3.3 and will be removed two minor releases later; use 'mathtext.fallback : 'cm' instead.\n",
      "In D:\\Users\\Marcelo\\Anaconda3\\lib\\site-packages\\matplotlib\\mpl-data\\stylelib\\_classic_test.mplstyle: \n",
      "The validate_bool_maybe_none function was deprecated in Matplotlib 3.3 and will be removed two minor releases later.\n",
      "In D:\\Users\\Marcelo\\Anaconda3\\lib\\site-packages\\matplotlib\\mpl-data\\stylelib\\_classic_test.mplstyle: \n",
      "The savefig.jpeg_quality rcparam was deprecated in Matplotlib 3.3 and will be removed two minor releases later.\n",
      "In D:\\Users\\Marcelo\\Anaconda3\\lib\\site-packages\\matplotlib\\mpl-data\\stylelib\\_classic_test.mplstyle: \n",
      "The keymap.all_axes rcparam was deprecated in Matplotlib 3.3 and will be removed two minor releases later.\n",
      "In D:\\Users\\Marcelo\\Anaconda3\\lib\\site-packages\\matplotlib\\mpl-data\\stylelib\\_classic_test.mplstyle: \n",
      "The animation.avconv_path rcparam was deprecated in Matplotlib 3.3 and will be removed two minor releases later.\n",
      "In D:\\Users\\Marcelo\\Anaconda3\\lib\\site-packages\\matplotlib\\mpl-data\\stylelib\\_classic_test.mplstyle: \n",
      "The animation.avconv_args rcparam was deprecated in Matplotlib 3.3 and will be removed two minor releases later.\n"
     ]
    }
   ],
   "source": [
    "import json\n",
    "import math\n",
    "import os\n",
    "import sys\n",
    "import warnings\n",
    "\n",
    "import matplotlib.pyplot as plt\n",
    "import numpy as np\n",
    "import pandas as pd\n",
    "import pickle\n",
    "import seaborn as sns\n",
    "import statistics\n",
    "import statsmodels.api as sm\n",
    "\n",
    "warnings.filterwarnings('ignore')"
   ]
  },
  {
   "cell_type": "code",
   "execution_count": 2,
   "metadata": {},
   "outputs": [],
   "source": [
    "from sklearn.preprocessing import StandardScaler\n",
    "from sklearn.impute import SimpleImputer as Imputer\n",
    "from sklearn.pipeline import Pipeline\n",
    "from sklearn.model_selection import train_test_split, GridSearchCV\n",
    "from sklearn.metrics import classification_report, roc_curve, precision_recall_curve, confusion_matrix #, plot_confusion_matrix\n",
    "from sklearn.metrics import accuracy_score, log_loss, f1_score\n",
    "from sklearn.metrics import mean_absolute_error, mean_squared_error, r2_score"
   ]
  },
  {
   "cell_type": "code",
   "execution_count": 3,
   "metadata": {},
   "outputs": [],
   "source": [
    "sys.path.append(os.path.join('..', 'src'))"
   ]
  },
  {
   "cell_type": "code",
   "execution_count": 61,
   "metadata": {},
   "outputs": [],
   "source": [
    "import importlib\n",
    "import s05_2_feature_engineering\n",
    "# importlib.reload(model)\n",
    "importlib.reload(s05_2_feature_engineering)\n",
    "from s05_2_feature_engineering import build_polynomials, transform_label, treat_skewness"
   ]
  },
  {
   "cell_type": "markdown",
   "metadata": {},
   "source": [
    "# Data capture"
   ]
  },
  {
   "cell_type": "code",
   "execution_count": 62,
   "metadata": {},
   "outputs": [],
   "source": [
    "inputs = os.path.join('..', 'data', '03_processed')\n",
    "models_reports = os.path.join('..', 'data', '04_models')\n",
    "model_outputs = os.path.join('..', 'data', '05_model_output')\n",
    "reports = os.path.join('..', 'data', '06_reporting')\n",
    "\n",
    "X_train           = pd.read_csv(os.path.join(inputs, 'X_train.csv'), index_col='id')\n",
    "X_test            = pd.read_csv(os.path.join(inputs, 'X_test.csv'), index_col='id')\n",
    "X_train_onehot    = pd.read_csv(os.path.join(inputs, 'X_train_onehot.csv'), index_col='id')\n",
    "X_test_onehot     = pd.read_csv(os.path.join(inputs, 'X_test_onehot.csv'), index_col='id')\n",
    "y_train           = pd.read_csv(os.path.join(inputs, 'y_train.csv'), index_col='id')\n",
    "y_test            = pd.read_csv(os.path.join(inputs, 'y_test.csv'), index_col='id')"
   ]
  },
  {
   "cell_type": "markdown",
   "metadata": {},
   "source": [
    "# Machine Learning"
   ]
  },
  {
   "cell_type": "code",
   "execution_count": 63,
   "metadata": {},
   "outputs": [],
   "source": [
    "# from sklearn.ensemble import RandomForestRegressor\n",
    "from sklearn.ensemble import RandomForestClassifier\n",
    "import xgboost as xgb\n",
    "# from xgboost.sklearn import XGBRegressor\n",
    "from xgboost.sklearn import XGBClassifier"
   ]
  },
  {
   "cell_type": "markdown",
   "metadata": {},
   "source": [
    "# Calculating final score with a test set"
   ]
  },
  {
   "cell_type": "code",
   "execution_count": 64,
   "metadata": {},
   "outputs": [],
   "source": [
    "def get_transformations(X_set, y_set, cols,\n",
    "               build_polynomals_method=False, \n",
    "                label_transformation_type=None, do_treat_skewness=False,\n",
    "               imputation=None, scaler=None,\n",
    "               ):\n",
    "    X_set = X_set.copy()\n",
    "#     if encoding == 'one-hot':\n",
    "#         set_name = set_name+'_oh'\n",
    "#     elif encoding == 'ordinal':\n",
    "#         set_name = set_name\n",
    "#     if treat_collinearity:\n",
    "#         set_name = set_name+'_oh_nocol'\n",
    "#     X_set = data_dict[set_name]\n",
    "    print(cols)\n",
    "    print(X_set.columns.to_list())\n",
    "    X_set = X_set[cols]\n",
    "#     X_set = X_set[['cycle']]\n",
    "    \n",
    "#     if build_polynomals_method: \n",
    "#         X_train_set = build_polynomials(X_set, ProjectParameters().numerical_cols, method = build_polynomals_method)\n",
    "#     if label_transformation_type:\n",
    "#         y_set = transform_label(y_set, label_transformation_type)\n",
    "#     if do_treat_skewness:\n",
    "#         X_set = treat_skewness(X_set, set_name)\n",
    "        \n",
    "    if scaler:\n",
    "        X_set = scale.fit_transform(X_set)\n",
    "        X_set = pd.DataFrame(X_set, columns = X_set.columns)\n",
    "    if imputation:\n",
    "        X_set.fillna(imputation)\n",
    "    \n",
    "    return X_set, y_set"
   ]
  },
  {
   "cell_type": "code",
   "execution_count": 65,
   "metadata": {},
   "outputs": [],
   "source": [
    "columns = X_train.columns.to_list()"
   ]
  },
  {
   "cell_type": "code",
   "execution_count": 66,
   "metadata": {},
   "outputs": [
    {
     "name": "stdout",
     "output_type": "stream",
     "text": [
      "['transactiondt', 'transactionamt', 'productcd', 'card1', 'card2', 'card3', 'card4', 'card5', 'card6', 'addr1', 'addr2', 'dist1', 'p_emaildomain', 'r_emaildomain', 'c1', 'c2', 'c3', 'c4', 'c5', 'c6', 'c7', 'c8', 'c9', 'c10', 'c11', 'c12', 'c13', 'c14', 'd1', 'd2', 'd3', 'd4', 'd5', 'd10', 'd11', 'd15', 'm1', 'm2', 'm3', 'm4', 'm5', 'm6', 'm7', 'm8', 'm9', 'if_anomaly']\n",
      "['addr1', 'addr2', 'c1', 'c10', 'c11', 'c12', 'c13', 'c14', 'c2', 'c3', 'c4', 'c5', 'c6', 'c7', 'c8', 'c9', 'card1', 'card2', 'card3', 'card4', 'card5', 'card6', 'd1', 'd10', 'd11', 'd12', 'd13', 'd14', 'd15', 'd2', 'd3', 'd4', 'd5', 'd6', 'd7', 'd8', 'd9', 'dist1', 'dist2', 'm1', 'm2', 'm3', 'm4', 'm5', 'm6', 'm7', 'm8', 'm9', 'p_emaildomain', 'productcd', 'r_emaildomain', 'transactionamt', 'transactiondt', 'if_anomaly']\n"
     ]
    }
   ],
   "source": [
    "label_transformation_type = None\n",
    "\n",
    "# X_train, y_train = get_transformations(\n",
    "#         X_train, y_train, columns,\n",
    "#         build_polynomals_method=None, do_treat_skewness=False,\n",
    "#         imputation=None, scaler=None)\n",
    "\n",
    "X_test, y_test = get_transformations(\n",
    "        X_test, y_test, columns,\n",
    "        build_polynomals_method=None, do_treat_skewness=False,\n",
    "        imputation=None, scaler=None)"
   ]
  },
  {
   "cell_type": "markdown",
   "metadata": {},
   "source": [
    "# load results\n",
    "Capture best parameters of chosen model which were obtained during cross validation"
   ]
  },
  {
   "cell_type": "code",
   "execution_count": 67,
   "metadata": {},
   "outputs": [],
   "source": [
    "def load_json_results(model_type):\n",
    "    filepath = os.path.join(model_outputs, model_type+'.json')\n",
    "    with open(filepath, 'r') as file:\n",
    "        json_results = json.load(file)\n",
    "    model = json_results[model_type]\n",
    "#     model = json_results\n",
    "    return model"
   ]
  },
  {
   "cell_type": "raw",
   "metadata": {},
   "source": [
    "ml_model = load_json_results('tree_xgb_numcyc_smote')\n",
    "# ml_model['columns']"
   ]
  },
  {
   "cell_type": "markdown",
   "metadata": {},
   "source": [
    "# build model to apply on test set"
   ]
  },
  {
   "cell_type": "code",
   "execution_count": 68,
   "metadata": {},
   "outputs": [],
   "source": [
    "def build_model(ml_model_type, X, y):\n",
    "    ml_model = load_json_results(ml_model_type)\n",
    "\n",
    "    if ml_model_type.startswith('tree_rf'):\n",
    "        params = {}\n",
    "        cols = ml_model['columns']\n",
    "        for k,v in ml_model['best_params'].items():\n",
    "            k = k[7:]\n",
    "            params[k] = v\n",
    "\n",
    "        model = RandomForestClassifier()\n",
    "\n",
    "    elif ml_model_type.startswith('tree_xgb'):\n",
    "        params = ml_model['best_params']\n",
    "        cols = ml_model['columns']\n",
    "        \n",
    "        model = XGBClassifier()\n",
    "        \n",
    "        X = X[cols]\n",
    "\n",
    "    for k,v in params.items(): \n",
    "        setattr(model, k, v)\n",
    "\n",
    "    model.fit(X, y)\n",
    "    \n",
    "    return model, cols"
   ]
  },
  {
   "cell_type": "code",
   "execution_count": 69,
   "metadata": {},
   "outputs": [],
   "source": [
    "# ['tree_xgb', 'tree_xgb_num', 'tree_xgb_numcyc', 'tree_xgb_numcyc_smote', 'tree_rf']\n",
    "ml_model = 'tree_xgb'\n",
    "\n",
    "model, columns = build_model(ml_model, X_train, y_train)\n",
    "X_test = X_test[columns]\n",
    "y_pred = model.predict(X_test)\n",
    "y_pred_prob = model.predict_proba(X_test)[:, 1]"
   ]
  },
  {
   "cell_type": "markdown",
   "metadata": {},
   "source": [
    "# calculate test score \n",
    "main metric: mean squared error for regression, f1_score for binary target"
   ]
  },
  {
   "cell_type": "code",
   "execution_count": 70,
   "metadata": {},
   "outputs": [
    {
     "name": "stdout",
     "output_type": "stream",
     "text": [
      "\n",
      "CLASSIFICATION_REPORT:\n",
      "               precision    recall  f1-score   support\n",
      "\n",
      "         0.0       0.97      1.00      0.99      2899\n",
      "         1.0       0.74      0.26      0.38       101\n",
      "\n",
      "    accuracy                           0.97      3000\n",
      "   macro avg       0.86      0.63      0.68      3000\n",
      "weighted avg       0.97      0.97      0.97      3000\n",
      "\n",
      "accuracy_score 0.972\n",
      "log_loss 0.104\n",
      "f1_score 0.965\n"
     ]
    }
   ],
   "source": [
    "# print('mean squared error:', round(mean_squared_error(y_test, y_pred), 3))\n",
    "# print('r2_score', round(r2_score(y_test, y_pred),3))\n",
    "# print('mean_absolute_error', round(mean_absolute_error(y_test, y_pred),3))\n",
    "print(\"\\nCLASSIFICATION_REPORT:\\n\", classification_report(y_test, y_pred))\n",
    "print('accuracy_score', round(accuracy_score(y_test, y_pred), 3))\n",
    "print('log_loss', round(log_loss(y_test, y_pred_prob), 3))\n",
    "print('f1_score', round(f1_score(y_test, y_pred, average='weighted'), 3))\n",
    "#     plot_confusion_matrix(model, transformed_dicts['X_test'], y_test,\n",
    "#                      cmap=plt.cm.Blues);"
   ]
  },
  {
   "cell_type": "markdown",
   "metadata": {},
   "source": [
    "# sample prediction\n",
    "predict first 10 entries"
   ]
  },
  {
   "cell_type": "markdown",
   "metadata": {},
   "source": [
    "# rebuild model for entire dataset"
   ]
  },
  {
   "cell_type": "code",
   "execution_count": 71,
   "metadata": {},
   "outputs": [],
   "source": [
    "X = X_train.copy().append(X_test)\n",
    "y = y_train.copy().append(y_test)\n",
    "# y.extend(y_test)\n",
    "\n",
    "# ml_model = 'tree_randomforest'\n",
    "ml_model = 'tree_xgb'\n",
    "final_model = build_model(ml_model, X, y)"
   ]
  },
  {
   "cell_type": "markdown",
   "metadata": {},
   "source": [
    "# save pickle of results"
   ]
  },
  {
   "cell_type": "code",
   "execution_count": 72,
   "metadata": {},
   "outputs": [],
   "source": [
    "file = os.path.join(model_outputs, 'trained_model.pkl')\n",
    "with open(file, 'wb') as f:\n",
    "    pickle.dump(final_model, f)  "
   ]
  },
  {
   "cell_type": "markdown",
   "metadata": {},
   "source": [
    "# compare estimated value with true value for sample"
   ]
  },
  {
   "cell_type": "code",
   "execution_count": 73,
   "metadata": {},
   "outputs": [
    {
     "data": {
      "text/html": [
       "<div>\n",
       "<style scoped>\n",
       "    .dataframe tbody tr th:only-of-type {\n",
       "        vertical-align: middle;\n",
       "    }\n",
       "\n",
       "    .dataframe tbody tr th {\n",
       "        vertical-align: top;\n",
       "    }\n",
       "\n",
       "    .dataframe thead th {\n",
       "        text-align: right;\n",
       "    }\n",
       "</style>\n",
       "<table border=\"1\" class=\"dataframe\">\n",
       "  <thead>\n",
       "    <tr style=\"text-align: right;\">\n",
       "      <th></th>\n",
       "      <th>estimated</th>\n",
       "      <th>true_value</th>\n",
       "    </tr>\n",
       "    <tr>\n",
       "      <th>id</th>\n",
       "      <th></th>\n",
       "      <th></th>\n",
       "    </tr>\n",
       "  </thead>\n",
       "  <tbody>\n",
       "    <tr>\n",
       "      <th>3486774</th>\n",
       "      <td>0.0</td>\n",
       "      <td>y</td>\n",
       "    </tr>\n",
       "  </tbody>\n",
       "</table>\n",
       "</div>"
      ],
      "text/plain": [
       "         estimated true_value\n",
       "id                           \n",
       "3486774        0.0          y"
      ]
     },
     "execution_count": 73,
     "metadata": {},
     "output_type": "execute_result"
    }
   ],
   "source": [
    "index_name = X.index.name\n",
    "ordered_users = pd.DataFrame(list(zip(X.index, y_pred, y_test)), columns = [index_name, 'estimated', 'true_value']).set_index(index_name)\n",
    "# ordered_users\n",
    "ordered_users.tail(10).sort_values(by='true_value', ascending=True)"
   ]
  },
  {
   "cell_type": "markdown",
   "metadata": {},
   "source": [
    "# Decision making"
   ]
  },
  {
   "cell_type": "markdown",
   "metadata": {},
   "source": [
    "# Sort entries\n",
    "Retrieve IDs e and sort them by probability."
   ]
  },
  {
   "cell_type": "code",
   "execution_count": 74,
   "metadata": {},
   "outputs": [
    {
     "data": {
      "text/html": [
       "<div>\n",
       "<style scoped>\n",
       "    .dataframe tbody tr th:only-of-type {\n",
       "        vertical-align: middle;\n",
       "    }\n",
       "\n",
       "    .dataframe tbody tr th {\n",
       "        vertical-align: top;\n",
       "    }\n",
       "\n",
       "    .dataframe thead th {\n",
       "        text-align: right;\n",
       "    }\n",
       "</style>\n",
       "<table border=\"1\" class=\"dataframe\">\n",
       "  <thead>\n",
       "    <tr style=\"text-align: right;\">\n",
       "      <th></th>\n",
       "      <th>probabilidade</th>\n",
       "      <th>valor_verdadeiro</th>\n",
       "    </tr>\n",
       "    <tr>\n",
       "      <th>id</th>\n",
       "      <th></th>\n",
       "      <th></th>\n",
       "    </tr>\n",
       "  </thead>\n",
       "  <tbody>\n",
       "    <tr>\n",
       "      <th>3558129</th>\n",
       "      <td>0.018209</td>\n",
       "      <td>0.0</td>\n",
       "    </tr>\n",
       "    <tr>\n",
       "      <th>3349057</th>\n",
       "      <td>0.006885</td>\n",
       "      <td>0.0</td>\n",
       "    </tr>\n",
       "    <tr>\n",
       "      <th>3212509</th>\n",
       "      <td>0.028522</td>\n",
       "      <td>0.0</td>\n",
       "    </tr>\n",
       "    <tr>\n",
       "      <th>3235417</th>\n",
       "      <td>0.046133</td>\n",
       "      <td>0.0</td>\n",
       "    </tr>\n",
       "    <tr>\n",
       "      <th>3055835</th>\n",
       "      <td>0.038310</td>\n",
       "      <td>0.0</td>\n",
       "    </tr>\n",
       "  </tbody>\n",
       "</table>\n",
       "</div>"
      ],
      "text/plain": [
       "         probabilidade  valor_verdadeiro\n",
       "id                                      \n",
       "3558129       0.018209               0.0\n",
       "3349057       0.006885               0.0\n",
       "3212509       0.028522               0.0\n",
       "3235417       0.046133               0.0\n",
       "3055835       0.038310               0.0"
      ]
     },
     "execution_count": 74,
     "metadata": {},
     "output_type": "execute_result"
    }
   ],
   "source": [
    "index_name = X_train.index.name\n",
    "y_pred = y_pred_prob\n",
    "ordered_users = pd.DataFrame(list(zip(X_test.index, y_pred, y_test['y'])), columns = [index_name, 'probabilidade', 'valor_verdadeiro']).set_index(index_name)\n",
    "# ordered_users.sort_values(by='probabilidade', ascending=False, inplace=True)\n",
    "ordered_users.head()"
   ]
  },
  {
   "cell_type": "markdown",
   "metadata": {},
   "source": [
    "Now let's see the number of observations from testset and how many of them are positive or negative."
   ]
  },
  {
   "cell_type": "code",
   "execution_count": 75,
   "metadata": {},
   "outputs": [
    {
     "name": "stdout",
     "output_type": "stream",
     "text": [
      "Size of test set: 3000\n",
      "number of positive cases: 101 ou 3.37% do total\n",
      "number of negative cases: 2899 ou 96.63% do total\n"
     ]
    }
   ],
   "source": [
    "users_total = len(ordered_users)\n",
    "users_yes = len(ordered_users[ordered_users['valor_verdadeiro'] == 1])\n",
    "users_no = users_total - users_yes\n",
    "print('Size of test set:', users_total)\n",
    "print('number of positive cases:', users_yes, 'ou {}% do total'.format(round(users_yes/users_total*100, 2)))\n",
    "print('number of negative cases:', users_no, 'ou {}% do total'.format(round(users_no/users_total*100, 2)))"
   ]
  },
  {
   "cell_type": "markdown",
   "metadata": {},
   "source": [
    "# Análise de thresholds\n",
    "Let's compare the probability thresholds for decision making. Assuming 1 for positive cases, and 0 for negative ones."
   ]
  },
  {
   "cell_type": "markdown",
   "metadata": {},
   "source": [
    "### Precision Recall Curve"
   ]
  },
  {
   "cell_type": "markdown",
   "metadata": {},
   "source": [
    "TP=True Positives, FP=False Positives, TN=True Negatives, and FN=False Negatives:\n",
    "* Precision is given by: $\\frac{TP}{TP+FP}$\n",
    "* Recall (sensitivity) is given by: $\\frac{TP}{TP+FN}$\n",
    "\n",
    "FP are those cases where the model mistakenly classifies negative cases as positive. While recall measures the proportion of correctly classified as positives from the positive population (focus on FN), precision measures the proportion of true positives from the cases classified as positives (focus on FP)\n",
    "\n",
    "There are other metrics for binary classification. For instance, ROC curve (receiver operating characteristic) shows how much of a rise of TPR (True Positive Rate) also increses FPR (False Positive Rate). Despite the usefulness of that graphic, we believe that precision-recall curve is enough."
   ]
  },
  {
   "cell_type": "code",
   "execution_count": 76,
   "metadata": {},
   "outputs": [
    {
     "data": {
      "image/png": "[encoded data removed]",
      "text/plain": [
       "<Figure size 432x288 with 1 Axes>"
      ]
     },
     "metadata": {
      "needs_background": "light"
     },
     "output_type": "display_data"
    }
   ],
   "source": [
    "precisions, recalls, thresholds = precision_recall_curve(y_test, y_pred)\n",
    "plt.plot([0, 1], [0, 1], 'k--')\n",
    "plt.plot(recalls, precisions)\n",
    "plt.grid()\n",
    "plt.xlabel('Recall')\n",
    "plt.ylabel('Precision')\n",
    "plt.title('Precision Recall Curve')\n",
    "plt.show()"
   ]
  },
  {
   "cell_type": "markdown",
   "metadata": {},
   "source": [
    "As we can see in this graphic, it is possible to increase recall withouth too much sacrifice in precision until the level of 0.95."
   ]
  },
  {
   "cell_type": "markdown",
   "metadata": {},
   "source": [
    "If we consider a threshold of 50%, we get a precision of 40% and reach 22% of cases of interest."
   ]
  },
  {
   "cell_type": "code",
   "execution_count": 77,
   "metadata": {},
   "outputs": [],
   "source": [
    "def print_thresholds(thres_list, thres=0.5):\n",
    "    thres_index = np.where(thres_list>=thres)[0][0]\n",
    "    print('threshold:', round(thres_list[thres_index],2))\n",
    "    print('precision:', round(precisions[thres_index],2))\n",
    "    print('recall:', round(recalls[thres_index],2))"
   ]
  },
  {
   "cell_type": "code",
   "execution_count": 78,
   "metadata": {},
   "outputs": [
    {
     "name": "stdout",
     "output_type": "stream",
     "text": [
      "threshold: 0.51\n",
      "precision: 0.74\n",
      "recall: 0.26\n"
     ]
    }
   ],
   "source": [
    "print_thresholds(thresholds, thres=0.5)"
   ]
  },
  {
   "cell_type": "markdown",
   "metadata": {},
   "source": [
    "Let's reduce the threshold and see what happens"
   ]
  },
  {
   "cell_type": "code",
   "execution_count": 79,
   "metadata": {},
   "outputs": [
    {
     "name": "stdout",
     "output_type": "stream",
     "text": [
      "threshold: 0.41\n",
      "precision: 0.71\n",
      "recall: 0.29\n"
     ]
    }
   ],
   "source": [
    "print_thresholds(thresholds, thres=0.4)"
   ]
  },
  {
   "cell_type": "markdown",
   "metadata": {},
   "source": [
    "Up until now, it seems that it makes sense to lower the threshold in order to reach a higher recall."
   ]
  },
  {
   "cell_type": "code",
   "execution_count": 80,
   "metadata": {},
   "outputs": [
    {
     "name": "stdout",
     "output_type": "stream",
     "text": [
      "threshold: 0.3\n",
      "precision: 0.62\n",
      "recall: 0.32\n"
     ]
    }
   ],
   "source": [
    "print_thresholds(thresholds, thres=0.3)"
   ]
  },
  {
   "cell_type": "code",
   "execution_count": 87,
   "metadata": {},
   "outputs": [
    {
     "name": "stdout",
     "output_type": "stream",
     "text": [
      "threshold: 0.1\n",
      "precision: 0.31\n",
      "recall: 0.47\n"
     ]
    }
   ],
   "source": [
    "print_thresholds(thresholds, thres=0.1)"
   ]
  },
  {
   "cell_type": "markdown",
   "metadata": {},
   "source": [
    "After reducing excessively the threshold, we might attain to cover all machine failures, but to the cost of a low precision. By assuring that all failures are prevented (no False Negative), we would be investing too much money on False Positives (by fixing machines which have low risk of failing). Depending on the costs, we risk having a lower ROI (Return on Investment)."
   ]
  },
  {
   "cell_type": "markdown",
   "metadata": {},
   "source": [
    "Let's evaluate absolute values"
   ]
  },
  {
   "cell_type": "markdown",
   "metadata": {},
   "source": [
    "### Build list of accumulated values"
   ]
  },
  {
   "cell_type": "code",
   "execution_count": 82,
   "metadata": {},
   "outputs": [],
   "source": [
    "ordered_users['unique_prob'] = ~ordered_users.duplicated(subset = 'probabilidade', keep='last')\n",
    "\n",
    "ordered_users['in_threshold'] = ordered_users[ (ordered_users['unique_prob'] == True) \n",
    "                                              & (ordered_users['probabilidade'].isin(thresholds)) ].probabilidade\n",
    "\n",
    "unique_prob = ordered_users['unique_prob'].to_list()\n",
    "in_threshold = ordered_users['in_threshold'].to_list()\n",
    "ordered_users.drop(['in_threshold', 'unique_prob'], axis=1, inplace=True)"
   ]
  },
  {
   "cell_type": "markdown",
   "metadata": {},
   "source": [
    "build list of cumulative values"
   ]
  },
  {
   "cell_type": "code",
   "execution_count": 83,
   "metadata": {},
   "outputs": [],
   "source": [
    "cum_positive = ordered_users.valor_verdadeiro.cumsum().to_list()\n",
    "\n",
    "cum_positive_filtered = []\n",
    "cum_target_users = []\n",
    "for i,val in enumerate(in_threshold):\n",
    "    if not math.isnan(val):\n",
    "        cum_value_pos = cum_positive[i]\n",
    "        cum_positive_filtered.append(cum_value_pos)\n",
    "        cum_target_users.append(i)\n",
    "        \n",
    "cum_positive_filtered = list(reversed(cum_positive_filtered))\n",
    "cum_target_users = list(reversed(cum_target_users))"
   ]
  },
  {
   "cell_type": "markdown",
   "metadata": {},
   "source": [
    "## Compare absolute numbers\n",
    "Let's compare absolute numbers to see the real effect "
   ]
  },
  {
   "cell_type": "code",
   "execution_count": 84,
   "metadata": {},
   "outputs": [],
   "source": [
    "cum_positive_filtered.append(cum_positive_filtered[-1])\n",
    "cum_target_users.append(cum_target_users[-1])"
   ]
  },
  {
   "cell_type": "code",
   "execution_count": 85,
   "metadata": {},
   "outputs": [
    {
     "data": {
      "image/png": "[encoded data removed]",
      "text/plain": [
       "<Figure size 432x288 with 1 Axes>"
      ]
     },
     "metadata": {
      "needs_background": "light"
     },
     "output_type": "display_data"
    }
   ],
   "source": [
    "plt.plot(cum_target_users, recalls)\n",
    "plt.plot(cum_target_users, precisions)\n",
    "plt.plot([0, max(cum_target_users)], [0, 1], 'k--')\n",
    "plt.grid()\n",
    "plt.legend(labels  = ['Recall', 'Precision'])\n",
    "plt.xlabel('Invested cases')\n",
    "plt.ylabel('Score')\n",
    "plt.title('Score by number of invested cases')\n",
    "plt.show()"
   ]
  },
  {
   "cell_type": "markdown",
   "metadata": {},
   "source": [
    "<!-- ### Compara resultados positivos com números absolutos em cada threshold\n",
    "Note que essa curva é idêntica ao recall, mas é agora em número absolutos em vez de proporção. -->"
   ]
  },
  {
   "cell_type": "code",
   "execution_count": 86,
   "metadata": {},
   "outputs": [
    {
     "data": {
      "image/png": "[encoded data removed]",
      "text/plain": [
       "<Figure size 432x288 with 1 Axes>"
      ]
     },
     "metadata": {
      "needs_background": "light"
     },
     "output_type": "display_data"
    }
   ],
   "source": [
    "plt.plot(cum_target_users, cum_positive_filtered)\n",
    "plt.grid()\n",
    "plt.xlabel('Invested cases')\n",
    "plt.ylabel('Positive results')\n",
    "plt.title('Positive results by number of invested cases')\n",
    "plt.show()"
   ]
  },
  {
   "cell_type": "markdown",
   "metadata": {},
   "source": [
    "# Final thoughts"
   ]
  },
  {
   "cell_type": "markdown",
   "metadata": {},
   "source": [
    "If we invested in only 8000 of users of higher probability to answer to campaign, we would achieve 3000 positive cases. But if we tried to increase that number to 4000 (1/3 de aumento!), we would need to double the investment, in other words, surpass 16000!\n",
    "\n",
    "Therefore, I would suggest a threshold close to 0.1 (10%). With that, we get many true positives while avoiding a high cost that could reduce ROI, given the consideration that the marginal cost would be low.\n",
    "\n",
    "Beyond that, the teams which are interested in evaluating the most relevant variables can consult feature importances results. "
   ]
  },
  {
   "cell_type": "code",
   "execution_count": null,
   "metadata": {},
   "outputs": [],
   "source": []
  }
 ],
 "metadata": {
  "kernelspec": {
   "display_name": "Python 3",
   "language": "python",
   "name": "python3"
  },
  "language_info": {
   "codemirror_mode": {
    "name": "ipython",
    "version": 3
   },
   "file_extension": ".py",
   "mimetype": "text/x-python",
   "name": "python",
   "nbconvert_exporter": "python",
   "pygments_lexer": "ipython3",
   "version": "3.7.5"
  }
 },
 "nbformat": 4,
 "nbformat_minor": 4
}
